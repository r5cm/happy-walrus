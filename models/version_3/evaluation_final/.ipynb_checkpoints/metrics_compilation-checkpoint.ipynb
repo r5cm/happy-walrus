{
 "cells": [
  {
   "cell_type": "code",
   "execution_count": 1,
   "metadata": {
    "ExecuteTime": {
     "end_time": "2019-12-10T21:04:13.335102Z",
     "start_time": "2019-12-10T21:04:09.023972Z"
    }
   },
   "outputs": [],
   "source": [
    "import os\n",
    "import pandas as pd"
   ]
  },
  {
   "cell_type": "code",
   "execution_count": 2,
   "metadata": {
    "ExecuteTime": {
     "end_time": "2019-12-10T21:04:23.075068Z",
     "start_time": "2019-12-10T21:04:23.062096Z"
    }
   },
   "outputs": [
    {
     "data": {
      "text/plain": [
       "['.ipynb_checkpoints',\n",
       " 'autoaugm_inceptionv2',\n",
       " 'autoaugm_inception_resnet_v2_atrous_coco',\n",
       " 'autoaugm_inception_resnet_v2_atrous_oidv4',\n",
       " 'autoaugm_nas',\n",
       " 'autoaugm_resnet101',\n",
       " 'custaugm_inceptionv2',\n",
       " 'custaugm_inception_resnet_v2_atrous_coco',\n",
       " 'custaugm_resnet101',\n",
       " 'hflip_resnet101',\n",
       " 'metrics_compilation.ipynb',\n",
       " 'noaugm_resnet101']"
      ]
     },
     "execution_count": 2,
     "metadata": {},
     "output_type": "execute_result"
    }
   ],
   "source": [
    "os.listdir()"
   ]
  },
  {
   "cell_type": "code",
   "execution_count": 9,
   "metadata": {
    "ExecuteTime": {
     "end_time": "2019-12-10T21:54:51.846801Z",
     "start_time": "2019-12-10T21:54:51.778821Z"
    }
   },
   "outputs": [
    {
     "data": {
      "text/html": [
       "<div>\n",
       "<style scoped>\n",
       "    .dataframe tbody tr th:only-of-type {\n",
       "        vertical-align: middle;\n",
       "    }\n",
       "\n",
       "    .dataframe tbody tr th {\n",
       "        vertical-align: top;\n",
       "    }\n",
       "\n",
       "    .dataframe thead th {\n",
       "        text-align: right;\n",
       "    }\n",
       "</style>\n",
       "<table border=\"1\" class=\"dataframe\">\n",
       "  <thead>\n",
       "    <tr style=\"text-align: right;\">\n",
       "      <th></th>\n",
       "      <th>map</th>\n",
       "      <th>map0_5</th>\n",
       "      <th>cabinet</th>\n",
       "      <th>chair</th>\n",
       "      <th>countertop</th>\n",
       "      <th>dishwasher</th>\n",
       "      <th>outlet</th>\n",
       "      <th>oven</th>\n",
       "      <th>sofa</th>\n",
       "      <th>stool</th>\n",
       "      <th>stove</th>\n",
       "      <th>utensil</th>\n",
       "    </tr>\n",
       "  </thead>\n",
       "  <tbody>\n",
       "    <tr>\n",
       "      <th>autoaugm_inceptionv2</th>\n",
       "      <td>0.28</td>\n",
       "      <td>0.52</td>\n",
       "      <td>0.28</td>\n",
       "      <td>0.61</td>\n",
       "      <td>0.50</td>\n",
       "      <td>0.57</td>\n",
       "      <td>0.23</td>\n",
       "      <td>0.69</td>\n",
       "      <td>0.36</td>\n",
       "      <td>0.71</td>\n",
       "      <td>0.72</td>\n",
       "      <td>0.49</td>\n",
       "    </tr>\n",
       "    <tr>\n",
       "      <th>autoaugm_resnet101</th>\n",
       "      <td>0.29</td>\n",
       "      <td>0.53</td>\n",
       "      <td>0.23</td>\n",
       "      <td>0.61</td>\n",
       "      <td>0.53</td>\n",
       "      <td>0.53</td>\n",
       "      <td>0.35</td>\n",
       "      <td>0.70</td>\n",
       "      <td>0.45</td>\n",
       "      <td>0.64</td>\n",
       "      <td>0.73</td>\n",
       "      <td>0.48</td>\n",
       "    </tr>\n",
       "    <tr>\n",
       "      <th>autoaugm_inception_resnet_v2_atrous_coco</th>\n",
       "      <td>0.34</td>\n",
       "      <td>0.57</td>\n",
       "      <td>0.27</td>\n",
       "      <td>0.68</td>\n",
       "      <td>0.56</td>\n",
       "      <td>0.66</td>\n",
       "      <td>0.43</td>\n",
       "      <td>0.73</td>\n",
       "      <td>0.34</td>\n",
       "      <td>0.69</td>\n",
       "      <td>0.79</td>\n",
       "      <td>0.58</td>\n",
       "    </tr>\n",
       "    <tr>\n",
       "      <th>autoaugm_inception_resnet_v2_atrous_oidv4</th>\n",
       "      <td>0.33</td>\n",
       "      <td>0.56</td>\n",
       "      <td>0.32</td>\n",
       "      <td>0.66</td>\n",
       "      <td>0.52</td>\n",
       "      <td>0.59</td>\n",
       "      <td>0.44</td>\n",
       "      <td>0.71</td>\n",
       "      <td>0.30</td>\n",
       "      <td>0.73</td>\n",
       "      <td>0.77</td>\n",
       "      <td>0.57</td>\n",
       "    </tr>\n",
       "    <tr>\n",
       "      <th>autoaugm_nas</th>\n",
       "      <td>0.36</td>\n",
       "      <td>0.59</td>\n",
       "      <td>0.23</td>\n",
       "      <td>0.72</td>\n",
       "      <td>0.53</td>\n",
       "      <td>0.67</td>\n",
       "      <td>0.47</td>\n",
       "      <td>0.71</td>\n",
       "      <td>0.48</td>\n",
       "      <td>0.69</td>\n",
       "      <td>0.79</td>\n",
       "      <td>0.63</td>\n",
       "    </tr>\n",
       "    <tr>\n",
       "      <th>custaugm_resnet101</th>\n",
       "      <td>0.28</td>\n",
       "      <td>0.47</td>\n",
       "      <td>0.16</td>\n",
       "      <td>0.60</td>\n",
       "      <td>0.48</td>\n",
       "      <td>0.47</td>\n",
       "      <td>0.26</td>\n",
       "      <td>0.63</td>\n",
       "      <td>0.27</td>\n",
       "      <td>0.64</td>\n",
       "      <td>0.70</td>\n",
       "      <td>0.48</td>\n",
       "    </tr>\n",
       "    <tr>\n",
       "      <th>hflip_resnet101</th>\n",
       "      <td>0.28</td>\n",
       "      <td>0.48</td>\n",
       "      <td>0.20</td>\n",
       "      <td>0.62</td>\n",
       "      <td>0.49</td>\n",
       "      <td>0.50</td>\n",
       "      <td>0.29</td>\n",
       "      <td>0.67</td>\n",
       "      <td>0.28</td>\n",
       "      <td>0.63</td>\n",
       "      <td>0.72</td>\n",
       "      <td>0.42</td>\n",
       "    </tr>\n",
       "    <tr>\n",
       "      <th>noaugm_resnet101</th>\n",
       "      <td>0.27</td>\n",
       "      <td>0.47</td>\n",
       "      <td>0.14</td>\n",
       "      <td>0.61</td>\n",
       "      <td>0.48</td>\n",
       "      <td>0.44</td>\n",
       "      <td>0.27</td>\n",
       "      <td>0.65</td>\n",
       "      <td>0.39</td>\n",
       "      <td>0.65</td>\n",
       "      <td>0.68</td>\n",
       "      <td>0.43</td>\n",
       "    </tr>\n",
       "  </tbody>\n",
       "</table>\n",
       "</div>"
      ],
      "text/plain": [
       "                                            map  map0_5  cabinet  chair  \\\n",
       "autoaugm_inceptionv2                       0.28    0.52     0.28   0.61   \n",
       "autoaugm_resnet101                         0.29    0.53     0.23   0.61   \n",
       "autoaugm_inception_resnet_v2_atrous_coco   0.34    0.57     0.27   0.68   \n",
       "autoaugm_inception_resnet_v2_atrous_oidv4  0.33    0.56     0.32   0.66   \n",
       "autoaugm_nas                               0.36    0.59     0.23   0.72   \n",
       "custaugm_resnet101                         0.28    0.47     0.16   0.60   \n",
       "hflip_resnet101                            0.28    0.48     0.20   0.62   \n",
       "noaugm_resnet101                           0.27    0.47     0.14   0.61   \n",
       "\n",
       "                                           countertop  dishwasher  outlet  \\\n",
       "autoaugm_inceptionv2                             0.50        0.57    0.23   \n",
       "autoaugm_resnet101                               0.53        0.53    0.35   \n",
       "autoaugm_inception_resnet_v2_atrous_coco         0.56        0.66    0.43   \n",
       "autoaugm_inception_resnet_v2_atrous_oidv4        0.52        0.59    0.44   \n",
       "autoaugm_nas                                     0.53        0.67    0.47   \n",
       "custaugm_resnet101                               0.48        0.47    0.26   \n",
       "hflip_resnet101                                  0.49        0.50    0.29   \n",
       "noaugm_resnet101                                 0.48        0.44    0.27   \n",
       "\n",
       "                                           oven  sofa  stool  stove  utensil  \n",
       "autoaugm_inceptionv2                       0.69  0.36   0.71   0.72     0.49  \n",
       "autoaugm_resnet101                         0.70  0.45   0.64   0.73     0.48  \n",
       "autoaugm_inception_resnet_v2_atrous_coco   0.73  0.34   0.69   0.79     0.58  \n",
       "autoaugm_inception_resnet_v2_atrous_oidv4  0.71  0.30   0.73   0.77     0.57  \n",
       "autoaugm_nas                               0.71  0.48   0.69   0.79     0.63  \n",
       "custaugm_resnet101                         0.63  0.27   0.64   0.70     0.48  \n",
       "hflip_resnet101                            0.67  0.28   0.63   0.72     0.42  \n",
       "noaugm_resnet101                           0.65  0.39   0.65   0.68     0.43  "
      ]
     },
     "execution_count": 9,
     "metadata": {},
     "output_type": "execute_result"
    }
   ],
   "source": [
    "models = ['autoaugm_inceptionv2', 'autoaugm_resnet101', 'autoaugm_inception_resnet_v2_atrous_coco',\n",
    "          'autoaugm_inception_resnet_v2_atrous_oidv4', 'autoaugm_nas', 'custaugm_resnet101', \n",
    "          'hflip_resnet101', 'noaugm_resnet101']\n",
    "data = []\n",
    "\n",
    "for model in models:\n",
    "    coco = pd.read_csv(model + '/eval_metrics/metrics_coco.csv', names=['metric', 'value'])\n",
    "    pascal = pd.read_csv(model + '/eval_metrics/metrics_pascal.csv', names=['metric', 'value'])\n",
    "    row = [coco.iloc[0]['value']] + pascal['value'].values.tolist()\n",
    "    row = [round(value, 2) for value in row]\n",
    "    data.append(row)\n",
    "\n",
    "cols = ['map', 'map0_5', 'cabinet', 'chair', 'countertop', 'dishwasher',\n",
    "         'outlet', 'oven', 'sofa', 'stool','stove', 'utensil']\n",
    "metrics = pd.DataFrame(data, columns=cols, index=models)\n",
    "metrics.to_csv('./metrics_aggregated.csv')\n",
    "metrics"
   ]
  },
  {
   "cell_type": "code",
   "execution_count": 7,
   "metadata": {
    "ExecuteTime": {
     "end_time": "2019-12-10T21:36:12.271333Z",
     "start_time": "2019-12-10T21:36:12.266289Z"
    }
   },
   "outputs": [
    {
     "data": {
      "text/plain": [
       "Index(['map', 'map0_5', 'cabinet', 'chair', 'countertop', 'dishwasher',\n",
       "       'outlet', 'oven', 'sofa', 'stool', 'stove', 'utensil'],\n",
       "      dtype='object')"
      ]
     },
     "execution_count": 7,
     "metadata": {},
     "output_type": "execute_result"
    }
   ],
   "source": [
    "metrics.columns"
   ]
  }
 ],
 "metadata": {
  "kernelspec": {
   "display_name": "Python 3",
   "language": "python",
   "name": "python3"
  },
  "language_info": {
   "codemirror_mode": {
    "name": "ipython",
    "version": 3
   },
   "file_extension": ".py",
   "mimetype": "text/x-python",
   "name": "python",
   "nbconvert_exporter": "python",
   "pygments_lexer": "ipython3",
   "version": "3.7.3"
  },
  "toc": {
   "base_numbering": 1,
   "nav_menu": {},
   "number_sections": true,
   "sideBar": true,
   "skip_h1_title": false,
   "title_cell": "Table of Contents",
   "title_sidebar": "Contents",
   "toc_cell": false,
   "toc_position": {},
   "toc_section_display": true,
   "toc_window_display": false
  }
 },
 "nbformat": 4,
 "nbformat_minor": 2
}

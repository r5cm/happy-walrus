{
 "cells": [
  {
   "cell_type": "markdown",
   "metadata": {},
   "source": [
    "This notebook fleshes out the skeleton provided by TensorFlow (https://github.com/tensorflow/models/blob/master/research/object_detection/g3doc/preparing_inputs.md)"
   ]
  },
  {
   "cell_type": "markdown",
   "metadata": {
    "colab_type": "text",
    "id": "7wrKXLy0FP5b"
   },
   "source": [
    "### Import statements"
   ]
  },
  {
   "cell_type": "code",
   "execution_count": 1,
   "metadata": {
    "ExecuteTime": {
     "end_time": "2019-10-15T20:30:30.034783Z",
     "start_time": "2019-10-15T20:30:30.030782Z"
    },
    "colab": {},
    "colab_type": "code",
    "id": "F2YRt_zmFP5f"
   },
   "outputs": [],
   "source": [
    "from platform import python_version\n",
    "import os\n",
    "import xml.etree.ElementTree as ET\n",
    "\n",
    "import tensorflow as tf\n",
    "from object_detection.utils import dataset_util"
   ]
  },
  {
   "cell_type": "markdown",
   "metadata": {
    "colab_type": "text",
    "id": "4kO4tU-oFP5r"
   },
   "source": [
    "### Check Python version and change input file directory as well as output file name\n",
    "\n",
    "You should run this script one level above the folder in which the annotations are contained."
   ]
  },
  {
   "cell_type": "code",
   "execution_count": 2,
   "metadata": {
    "ExecuteTime": {
     "end_time": "2019-10-15T20:30:31.694799Z",
     "start_time": "2019-10-15T20:30:31.684798Z"
    },
    "colab": {
     "base_uri": "https://localhost:8080/",
     "height": 35
    },
    "colab_type": "code",
    "executionInfo": {
     "elapsed": 1089,
     "status": "ok",
     "timestamp": 1571170901243,
     "user": {
      "displayName": "Ramiro Cadavid",
      "photoUrl": "",
      "userId": "02024539912744482581"
     },
     "user_tz": 300
    },
    "id": "a33mJ8-jFP5t",
    "outputId": "770b2627-6976-4a0b-dfc2-ca9048f97fdf"
   },
   "outputs": [
    {
     "name": "stdout",
     "output_type": "stream",
     "text": [
      "3.6.8\n"
     ]
    }
   ],
   "source": [
    "# Check version--needs to be 3.6 or above to use `os.fsencode()`\n",
    "print(python_version())\n",
    "\n",
    "# Input string for directory over which to iterate\n",
    "directory_str = \"./annotations\"\n",
    "\n",
    "# Input string for file to which serialized records should be written\n",
    "output_str = \"./tf_records/new_test\""
   ]
  },
  {
   "cell_type": "markdown",
   "metadata": {
    "colab_type": "text",
    "id": "5kwbZTiwFP6R"
   },
   "source": [
    "### Write a `tf_example` for one record"
   ]
  },
  {
   "cell_type": "code",
   "execution_count": 3,
   "metadata": {
    "ExecuteTime": {
     "end_time": "2019-10-15T20:32:00.122463Z",
     "start_time": "2019-10-15T20:31:59.998928Z"
    },
    "colab": {
     "base_uri": "https://localhost:8080/",
     "height": 243
    },
    "colab_type": "code",
    "executionInfo": {
     "elapsed": 665,
     "status": "error",
     "timestamp": 1571171177873,
     "user": {
      "displayName": "Ramiro Cadavid",
      "photoUrl": "",
      "userId": "02024539912744482581"
     },
     "user_tz": 300
    },
    "id": "OpP4Mq0ZFP6S",
    "outputId": "3915e8d3-cd52-4b3a-e186-ba796db48fa5"
   },
   "outputs": [],
   "source": [
    "# Set file directory. Initialize empty lists and counters\n",
    "directory = os.fsencode(directory_str)\n",
    "\n",
    "# Do we need to include all labels here?\n",
    "LABEL_DICT = {\n",
    "    \"chair\": 1,\n",
    "    \"stool\": 2,\n",
    "    \"oven\": 3,\n",
    "    \"stove\": 4,\n",
    "    \"ladder\": 5,\n",
    "    \"sofa\": 6\n",
    "}\n",
    "\n",
    "def create_tf_example(full_path):\n",
    "    \n",
    "    # Construct full file path, read XML tree object, set tree root, and obtain image size\n",
    "    tree = ET.parse(full_path)\n",
    "    root = tree.getroot()\n",
    "    size = root.find('size')\n",
    "\n",
    "    height = int(size.find('height').text) # Image height\n",
    "    width = int(size.find('width').text) # Image width\n",
    "    filename = root.find('filename').text # Filename of the image. Empty if image is not from file\n",
    "    encoded_full_path = full_path.encode()\n",
    "    \n",
    "    with tf.io.gfile.GFile(full_path, 'rb') as file:\n",
    "        encoded_image_data = file.read() # Encoded image bytes\n",
    "        \n",
    "    image_format = b'jpg' # b'jpeg' or b'png' NOTE, the example script uses b'jpg', which is what I used\n",
    "\n",
    "    xmins = [] # List of normalized left x coordinates in bounding box (1 per box)\n",
    "    xmaxs = [] # List of normalized right x coordinates in bounding box\n",
    "             # (1 per box)\n",
    "    ymins = [] # List of normalized top y coordinates in bounding box (1 per box)\n",
    "    ymaxs = [] # List of normalized bottom y coordinates in bounding box\n",
    "             # (1 per box)\n",
    "    classes_text = [] # List of string class name of bounding box (1 per box)\n",
    "    classes = [] # List of integer class id of bounding box (1 per box)\n",
    "\n",
    "    # Iterate through each annotated 'object' in an image\n",
    "    for obj in root.findall('object'):\n",
    "        # Extract bounding box coordinates and calculate width, height, and area\n",
    "        bndbox = obj.find('bndbox')\n",
    "        \n",
    "        # Normalize x-coordinates to image width and y-coordinates to image height\n",
    "        xmin = float(bndbox.find('xmin').text)/width\n",
    "        ymin = float(bndbox.find('ymin').text)/height\n",
    "        xmax = float(bndbox.find('xmax').text)/width\n",
    "        ymax = float(bndbox.find('ymax').text)/height\n",
    "        \n",
    "        # Extract name (i.e., category) and use LABEL_DICT dictionary to get label ID\n",
    "        name = obj.find('name').text\n",
    "        name_id = LABEL_DICT[name]\n",
    "        encoded_name = name.encode()\n",
    "        \n",
    "        # Append information to lists\n",
    "        xmins.append(xmin)\n",
    "        ymins.append(ymin)\n",
    "        xmaxs.append(xmax)\n",
    "        ymaxs.append(ymax)\n",
    "        classes_text.append(encoded_name)\n",
    "        classes.append(name_id)\n",
    "        \n",
    "    # I think that `filename` and `source_id` should encode the full path (not just the file name), but\n",
    "    # I could be wrong\n",
    "    tf_example = tf.train.Example(features=tf.train.Features(feature={\n",
    "        'image/height': dataset_util.int64_feature(height),\n",
    "        'image/width': dataset_util.int64_feature(width),\n",
    "        'image/filename': dataset_util.bytes_feature(encoded_full_path),\n",
    "        'image/source_id': dataset_util.bytes_feature(encoded_full_path),\n",
    "        'image/encoded': dataset_util.bytes_feature(encoded_image_data),\n",
    "        'image/format': dataset_util.bytes_feature(image_format),\n",
    "        'image/object/bbox/xmin': dataset_util.float_list_feature(xmins),\n",
    "        'image/object/bbox/xmax': dataset_util.float_list_feature(xmaxs),\n",
    "        'image/object/bbox/ymin': dataset_util.float_list_feature(ymins),\n",
    "        'image/object/bbox/ymax': dataset_util.float_list_feature(ymaxs),\n",
    "        'image/object/class/text': dataset_util.bytes_list_feature(classes_text),\n",
    "        'image/object/class/label': dataset_util.int64_list_feature(classes),\n",
    "    }))        \n",
    "\n",
    "    return tf_example"
   ]
  },
  {
   "cell_type": "markdown",
   "metadata": {},
   "source": [
    "### Iterate through directory, convert each Pascal/VOC record, serialize to string, and write to disk"
   ]
  },
  {
   "cell_type": "code",
   "execution_count": 4,
   "metadata": {},
   "outputs": [],
   "source": [
    "# Iterate through file structure\n",
    "for file in sorted(os.listdir(directory)):\n",
    "    filename = os.fsdecode(file)\n",
    "    full_path = os.path.join(directory_str, filename)\n",
    "    tf_example = create_tf_example(full_path)\n",
    "        \n",
    "    # Skip files that don't contain a '.xml' extension\n",
    "    if not filename.endswith(\".xml\"):\n",
    "        print(full_path)\n",
    "        continue \n",
    "        \n",
    "#   write_to_file = tf.python_io.TFRecorderWriter(output_path)\n",
    "    write_to_file = tf.compat.v2.io.TFRecordWriter(output_str)\n",
    "    write_to_file.write(tf_example.SerializeToString())\n",
    "    \n",
    "write_to_file.close()"
   ]
  },
  {
   "cell_type": "markdown",
   "metadata": {},
   "source": [
    "### Read serialized file from disk and retrieve one record for inspection"
   ]
  },
  {
   "cell_type": "code",
   "execution_count": 5,
   "metadata": {},
   "outputs": [
    {
     "data": {
      "text/plain": [
       "<TFRecordDatasetV2 shapes: (), types: tf.string>"
      ]
     },
     "execution_count": 5,
     "metadata": {},
     "output_type": "execute_result"
    }
   ],
   "source": [
    "# Taken from https://www.tensorflow.org/tutorials/load_data/tfrecord\n",
    "\n",
    "filenames = [output_str]\n",
    "raw_dataset = tf.data.TFRecordDataset(filenames)\n",
    "raw_dataset"
   ]
  },
  {
   "cell_type": "code",
   "execution_count": 6,
   "metadata": {
    "scrolled": false
   },
   "outputs": [
    {
     "name": "stdout",
     "output_type": "stream",
     "text": [
      "features {\n",
      "  feature {\n",
      "    key: \"image/encoded\"\n",
      "    value {\n",
      "      bytes_list {\n",
      "        value: \"<annotation>\\n\\t<folder>kitchens_renamed_flattened</folder>\\n\\t<filename>white_kitchen.EH.090.jpg</filename>\\n\\t<path>/home/errett/datasets/kitchens_renamed_flattened/white_kitchen.EH.090.jpg</path>\\n\\t<source>\\n\\t\\t<database>Unknown</database>\\n\\t</source>\\n\\t<size>\\n\\t\\t<width>810</width>\\n\\t\\t<height>1215</height>\\n\\t\\t<depth>3</depth>\\n\\t</size>\\n\\t<segmented>0</segmented>\\n\\t<object>\\n\\t\\t<name>stove</name>\\n\\t\\t<pose>Unspecified</pose>\\n\\t\\t<truncated>1</truncated>\\n\\t\\t<difficult>0</difficult>\\n\\t\\t<bndbox>\\n\\t\\t\\t<xmin>1</xmin>\\n\\t\\t\\t<ymin>763</ymin>\\n\\t\\t\\t<xmax>132</xmax>\\n\\t\\t\\t<ymax>1211</ymax>\\n\\t\\t</bndbox>\\n\\t</object>\\n\\t<object>\\n\\t\\t<name>chair</name>\\n\\t\\t<pose>Unspecified</pose>\\n\\t\\t<truncated>0</truncated>\\n\\t\\t<difficult>0</difficult>\\n\\t\\t<bndbox>\\n\\t\\t\\t<xmin>405</xmin>\\n\\t\\t\\t<ymin>617</ymin>\\n\\t\\t\\t<xmax>525</xmax>\\n\\t\\t\\t<ymax>794</ymax>\\n\\t\\t</bndbox>\\n\\t</object>\\n\\t<object>\\n\\t\\t<name>chair</name>\\n\\t\\t<pose>Unspecified</pose>\\n\\t\\t<truncated>0</truncated>\\n\\t\\t<difficult>0</difficult>\\n\\t\\t<bndbox>\\n\\t\\t\\t<xmin>447</xmin>\\n\\t\\t\\t<ymin>599</ymin>\\n\\t\\t\\t<xmax>542</xmax>\\n\\t\\t\\t<ymax>760</ymax>\\n\\t\\t</bndbox>\\n\\t</object>\\n\\t<object>\\n\\t\\t<name>chair</name>\\n\\t\\t<pose>Unspecified</pose>\\n\\t\\t<truncated>0</truncated>\\n\\t\\t<difficult>0</difficult>\\n\\t\\t<bndbox>\\n\\t\\t\\t<xmin>503</xmin>\\n\\t\\t\\t<ymin>644</ymin>\\n\\t\\t\\t<xmax>655</xmax>\\n\\t\\t\\t<ymax>822</ymax>\\n\\t\\t</bndbox>\\n\\t</object>\\n\\t<object>\\n\\t\\t<name>chair</name>\\n\\t\\t<pose>Unspecified</pose>\\n\\t\\t<truncated>0</truncated>\\n\\t\\t<difficult>0</difficult>\\n\\t\\t<bndbox>\\n\\t\\t\\t<xmin>592</xmin>\\n\\t\\t\\t<ymin>600</ymin>\\n\\t\\t\\t<xmax>691</xmax>\\n\\t\\t\\t<ymax>758</ymax>\\n\\t\\t</bndbox>\\n\\t</object>\\n\\t<object>\\n\\t\\t<name>chair</name>\\n\\t\\t<pose>Unspecified</pose>\\n\\t\\t<truncated>0</truncated>\\n\\t\\t<difficult>0</difficult>\\n\\t\\t<bndbox>\\n\\t\\t\\t<xmin>622</xmin>\\n\\t\\t\\t<ymin>641</ymin>\\n\\t\\t\\t<xmax>697</xmax>\\n\\t\\t\\t<ymax>789</ymax>\\n\\t\\t</bndbox>\\n\\t</object>\\n</annotation>\\n\"\n",
      "      }\n",
      "    }\n",
      "  }\n",
      "  feature {\n",
      "    key: \"image/filename\"\n",
      "    value {\n",
      "      bytes_list {\n",
      "        value: \"./annotations/white_kitchen.EH.090.xml\"\n",
      "      }\n",
      "    }\n",
      "  }\n",
      "  feature {\n",
      "    key: \"image/format\"\n",
      "    value {\n",
      "      bytes_list {\n",
      "        value: \"jpg\"\n",
      "      }\n",
      "    }\n",
      "  }\n",
      "  feature {\n",
      "    key: \"image/height\"\n",
      "    value {\n",
      "      int64_list {\n",
      "        value: 1215\n",
      "      }\n",
      "    }\n",
      "  }\n",
      "  feature {\n",
      "    key: \"image/object/bbox/xmax\"\n",
      "    value {\n",
      "      float_list {\n",
      "        value: 0.16296295821666718\n",
      "        value: 0.6481481194496155\n",
      "        value: 0.6691358089447021\n",
      "        value: 0.8086419701576233\n",
      "        value: 0.8530864119529724\n",
      "        value: 0.8604938387870789\n",
      "      }\n",
      "    }\n",
      "  }\n",
      "  feature {\n",
      "    key: \"image/object/bbox/xmin\"\n",
      "    value {\n",
      "      float_list {\n",
      "        value: 0.0012345679569989443\n",
      "        value: 0.5\n",
      "        value: 0.5518518686294556\n",
      "        value: 0.6209876537322998\n",
      "        value: 0.7308642268180847\n",
      "        value: 0.7679012417793274\n",
      "      }\n",
      "    }\n",
      "  }\n",
      "  feature {\n",
      "    key: \"image/object/bbox/ymax\"\n",
      "    value {\n",
      "      float_list {\n",
      "        value: 0.9967077970504761\n",
      "        value: 0.6534979343414307\n",
      "        value: 0.6255143880844116\n",
      "        value: 0.6765432357788086\n",
      "        value: 0.6238682866096497\n",
      "        value: 0.6493827104568481\n",
      "      }\n",
      "    }\n",
      "  }\n",
      "  feature {\n",
      "    key: \"image/object/bbox/ymin\"\n",
      "    value {\n",
      "      float_list {\n",
      "        value: 0.6279835104942322\n",
      "        value: 0.5078189373016357\n",
      "        value: 0.49300411343574524\n",
      "        value: 0.5300411581993103\n",
      "        value: 0.4938271641731262\n",
      "        value: 0.5275720357894897\n",
      "      }\n",
      "    }\n",
      "  }\n",
      "  feature {\n",
      "    key: \"image/object/class/label\"\n",
      "    value {\n",
      "      int64_list {\n",
      "        value: 4\n",
      "        value: 1\n",
      "        value: 1\n",
      "        value: 1\n",
      "        value: 1\n",
      "        value: 1\n",
      "      }\n",
      "    }\n",
      "  }\n",
      "  feature {\n",
      "    key: \"image/object/class/text\"\n",
      "    value {\n",
      "      bytes_list {\n",
      "        value: \"stove\"\n",
      "        value: \"chair\"\n",
      "        value: \"chair\"\n",
      "        value: \"chair\"\n",
      "        value: \"chair\"\n",
      "        value: \"chair\"\n",
      "      }\n",
      "    }\n",
      "  }\n",
      "  feature {\n",
      "    key: \"image/source_id\"\n",
      "    value {\n",
      "      bytes_list {\n",
      "        value: \"./annotations/white_kitchen.EH.090.xml\"\n",
      "      }\n",
      "    }\n",
      "  }\n",
      "  feature {\n",
      "    key: \"image/width\"\n",
      "    value {\n",
      "      int64_list {\n",
      "        value: 810\n",
      "      }\n",
      "    }\n",
      "  }\n",
      "}\n",
      "\n"
     ]
    }
   ],
   "source": [
    "for raw_record in raw_dataset.take(1):\n",
    "    example = tf.train.Example()\n",
    "    example.ParseFromString(raw_record.numpy())\n",
    "    print(example)"
   ]
  }
 ],
 "metadata": {
  "colab": {
   "name": "pascal_to_coco.ipynb",
   "provenance": []
  },
  "kernelspec": {
   "display_name": "Python 3",
   "language": "python",
   "name": "python3"
  },
  "language_info": {
   "codemirror_mode": {
    "name": "ipython",
    "version": 3
   },
   "file_extension": ".py",
   "mimetype": "text/x-python",
   "name": "python",
   "nbconvert_exporter": "python",
   "pygments_lexer": "ipython3",
   "version": "3.6.8"
  },
  "toc": {
   "base_numbering": 1,
   "nav_menu": {},
   "number_sections": true,
   "sideBar": true,
   "skip_h1_title": false,
   "title_cell": "Table of Contents",
   "title_sidebar": "Contents",
   "toc_cell": false,
   "toc_position": {},
   "toc_section_display": true,
   "toc_window_display": false
  }
 },
 "nbformat": 4,
 "nbformat_minor": 1
}

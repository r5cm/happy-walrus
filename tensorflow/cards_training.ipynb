{
 "cells": [
  {
   "cell_type": "code",
   "execution_count": 1,
   "metadata": {},
   "outputs": [
    {
     "name": "stdout",
     "output_type": "stream",
     "text": [
      "/models/research/object_detection\r\n"
     ]
    }
   ],
   "source": [
    "!pwd"
   ]
  },
  {
   "cell_type": "markdown",
   "metadata": {},
   "source": [
    "### Generate data"
   ]
  },
  {
   "cell_type": "markdown",
   "metadata": {},
   "source": [
    "Generate training data to `./images/`"
   ]
  },
  {
   "cell_type": "code",
   "execution_count": 8,
   "metadata": {
    "scrolled": true
   },
   "outputs": [
    {
     "name": "stdout",
     "output_type": "stream",
     "text": [
      "Successfully converted xml to csv.\n",
      "Successfully converted xml to csv.\n",
      "\n",
      "total 56K\n",
      "drwxr-xr-x 2 root root 4.0K Oct 13 02:15 test\n",
      "-rw-r--r-- 1 root root 5.9K Nov  3 12:30 test_labels.csv\n",
      "drwxr-xr-x 2 root root  20K Oct 13 02:15 train\n",
      "-rw-r--r-- 1 root root  22K Nov  3 12:30 train_labels.csv\n",
      "\n",
      "filename,width,height,class,xmin,ymin,xmax,ymax\n",
      "cam_image28.jpg,960,540,ten,268,115,502,426\n",
      "cam_image30.jpg,960,540,ten,202,47,456,344\n",
      "IMG_2515.JPG,378,504,jack,56,172,226,369\n",
      "cam_image3.jpg,960,540,king,326,99,473,291\n",
      "cam_image3.jpg,960,540,king,496,88,658,277\n",
      "cam_image3.jpg,960,540,king,501,291,674,513\n",
      "cam_image3.jpg,960,540,king,320,295,481,516\n",
      "cam_image33.jpg,960,540,nine,281,112,504,386\n",
      "IMG_2603.JPG,378,504,king,209,208,372,410\n"
     ]
    }
   ],
   "source": [
    "!python xml_to_csv.py\n",
    "print(\"\")\n",
    "!ls images -lh\n",
    "print(\"\")\n",
    "!head images/train_labels.csv"
   ]
  },
  {
   "cell_type": "markdown",
   "metadata": {},
   "source": [
    "Open `generate_tfrecord.py` and:\n",
    "1. replace `import tensorflow` with `import tensorflow.compat.v1`.\n",
    "2. Modify `class_test_to_int()` function with label-id mapping."
   ]
  },
  {
   "cell_type": "code",
   "execution_count": 15,
   "metadata": {
    "scrolled": true
   },
   "outputs": [
    {
     "name": "stdout",
     "output_type": "stream",
     "text": [
      "Successfully created the TFRecords: /models/research/object_detection/train.record\n",
      "Successfully created the TFRecords: /models/research/object_detection/test.record\n",
      "\n",
      "-rw-r--r-- 1 root root 6.7M Nov  3 12:51 test.record\n",
      "-rw-r--r-- 1 root root  30M Nov  3 12:50 train.record\n"
     ]
    }
   ],
   "source": [
    "!python generate_tfrecord.py --csv_input=images/train_labels.csv --image_dir=images/train --output_path=train.record\n",
    "!python generate_tfrecord.py --csv_input=images/test_labels.csv --image_dir=images/test --output_path=test.record\n",
    "print(\"\")\n",
    "!ls -lh | grep .*\\.record$"
   ]
  },
  {
   "cell_type": "markdown",
   "metadata": {},
   "source": [
    "### Training"
   ]
  },
  {
   "cell_type": "markdown",
   "metadata": {},
   "source": [
    "Create label map and save it in `training/labelmap.pbtxt` with the same mapping as in `generate_tfrecord.py`."
   ]
  },
  {
   "cell_type": "markdown",
   "metadata": {},
   "source": [
    "Get model checkpoint"
   ]
  },
  {
   "cell_type": "code",
   "execution_count": null,
   "metadata": {},
   "outputs": [],
   "source": [
    "!wget \"http://download.tensorflow.org/models/object_detection/faster_rcnn_inception_v2_coco_2018_01_28.tar.gz\"\n",
    "!tar xvzf faster_rcnn_inception_v2_coco_2018_01_28.tar.gz"
   ]
  },
  {
   "cell_type": "markdown",
   "metadata": {},
   "source": [
    "Copy config file from `./samples/configs/` to `./training/` and adapt parameters."
   ]
  },
  {
   "cell_type": "code",
   "execution_count": null,
   "metadata": {},
   "outputs": [],
   "source": [
    "!cp samples/configs/faster_rcnn_inception_v2_pets.config training/"
   ]
  },
  {
   "cell_type": "markdown",
   "metadata": {},
   "source": [
    "Move train.py from `legacy/` tom `.`"
   ]
  },
  {
   "cell_type": "code",
   "execution_count": 36,
   "metadata": {},
   "outputs": [],
   "source": [
    "!cp legacy/train.py ."
   ]
  },
  {
   "cell_type": "markdown",
   "metadata": {},
   "source": [
    "Train model"
   ]
  },
  {
   "cell_type": "code",
   "execution_count": 46,
   "metadata": {},
   "outputs": [
    {
     "name": "stdout",
     "output_type": "stream",
     "text": [
      "Traceback (most recent call last):\r\n",
      "  File \"train.py\", line 49, in <module>\r\n",
      "    from object_detection.builders import dataset_builder\r\n",
      "  File \"/models/research/object_detection/builders/dataset_builder.py\", line 27, in <module>\r\n",
      "    from object_detection.data_decoders import tf_example_decoder\r\n",
      "  File \"/models/research/object_detection/data_decoders/tf_example_decoder.py\", line 32, in <module>\r\n",
      "    slim_example_decoder = tf.contrib.slim.tfexample_decoder\r\n",
      "AttributeError: module 'tensorflow' has no attribute 'contrib'\r\n"
     ]
    }
   ],
   "source": [
    "!python train.py --logtostderr --train_dir=training/ --pipeline_config_path=training/faster_rcnn_inception_v2_pets.config"
   ]
  },
  {
   "cell_type": "code",
   "execution_count": 41,
   "metadata": {},
   "outputs": [
    {
     "name": "stdout",
     "output_type": "stream",
     "text": [
      "Traceback (most recent call last):\r\n",
      "  File \"model_main.py\", line 26, in <module>\r\n",
      "    from object_detection import model_lib\r\n",
      "  File \"/models/research/object_detection/model_lib.py\", line 27, in <module>\r\n",
      "    from object_detection import eval_util\r\n",
      "  File \"/models/research/object_detection/eval_util.py\", line 40, in <module>\r\n",
      "    slim = tf.contrib.slim\r\n",
      "AttributeError: module 'tensorflow' has no attribute 'contrib'\r\n"
     ]
    }
   ],
   "source": [
    "!python model_main.py --model_dir=training/ --pipeline_config_path=trainin/faster_rcnn_inception_v2_pets.config"
   ]
  }
 ],
 "metadata": {
  "kernelspec": {
   "display_name": "Python 3",
   "language": "python",
   "name": "python3"
  },
  "language_info": {
   "codemirror_mode": {
    "name": "ipython",
    "version": 3
   },
   "file_extension": ".py",
   "mimetype": "text/x-python",
   "name": "python",
   "nbconvert_exporter": "python",
   "pygments_lexer": "ipython3",
   "version": "3.6.8"
  }
 },
 "nbformat": 4,
 "nbformat_minor": 2
}
